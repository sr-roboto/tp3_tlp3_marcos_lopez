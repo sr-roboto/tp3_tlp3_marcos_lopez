{
 "cells": [
  {
   "cell_type": "markdown",
   "id": "498731c6",
   "metadata": {},
   "source": [
    "# Trabajo Practico n3 - Trabajando con Lists y Sets.\n",
    "## Criterios de evaluación.\n",
    "\n",
    "* Se deben utilizar nombres de variables descriptivos y claros (Utilizar la nomeclatura correspondiente para los nombres de variables).\n",
    "* Comentarios claros y concisos que expliquen el propósito de cada sección del código.\n",
    "* Utilizar mensajes de commit **descriptivos**. (Puedes utilizar la extension CONVENTIONAL COMMIT de VS-CODE). \n",
    "* Entrega en tiempo y forma.\n",
    "* Todo el código desarrollado debe ser subido a un repositorio en GitHub (el nombre del repositorio de seguir la siguiente estructura: tp3_tlp3_nombre_apellido).\n",
    "* Para resolver las actividades se debe insertar casillas de codigo entre cada actividad del cuaderno de Jupyter\n",
    "* El repositorio de GitHub debe incluir un archivo README.md con las instrucciones necesarias para la correcta ejecución del código.\n",
    "\n",
    "### ¡Importante!\n",
    "**El incumplimiento de los criterios de evaluación restará puntos en la nota final del práctico!**"
   ]
  },
  {
   "cell_type": "markdown",
   "id": "b361a7b6",
   "metadata": {},
   "source": [
    "### Actividad 1: \n",
    "Suma de todos los elementos de una lista, utilizando bucles repetitivos (for, while)."
   ]
  },
  {
   "cell_type": "code",
   "execution_count": 2,
   "id": "26009294",
   "metadata": {},
   "outputs": [
    {
     "name": "stdout",
     "output_type": "stream",
     "text": [
      "85\n"
     ]
    }
   ],
   "source": [
    "\n",
    "# todo:\n",
    "\n",
    "numbers = [14, 23, 34, 48, 85]\n",
    "\n",
    "for i in range(len(numbers)):\n",
    "    suma =+ numbers[i]\n",
    "\n",
    "print(suma)\n",
    "    \n"
   ]
  },
  {
   "cell_type": "markdown",
   "id": "0c239195",
   "metadata": {},
   "source": [
    "### Actividad 2: \n",
    "Encontrar el número más grande en una lista, utilizando bucles repetitivos (for, while)."
   ]
  },
  {
   "cell_type": "code",
   "execution_count": null,
   "id": "3611d25a",
   "metadata": {},
   "outputs": [
    {
     "name": "stdout",
     "output_type": "stream",
     "text": [
      "76\n",
      "77\n",
      "14\n",
      "99\n",
      "79\n",
      "99\n"
     ]
    }
   ],
   "source": [
    "\n",
    "from random import randint\n",
    "random_numbers =[randint(1, 100) for i in range(5)]\n",
    "\n",
    "num_max = random_numbers[0]\n",
    "\n",
    "for i in range(len(random_numbers)):\n",
    "    print(random_numbers[i])\n",
    "    if random_numbers[i] > num_max:\n",
    "        num_max = random_numbers[i]\n",
    "\n",
    "print(num_max)"
   ]
  },
  {
   "cell_type": "markdown",
   "id": "70a24b97",
   "metadata": {},
   "source": [
    "### Actividad 3:\n",
    "Contar cuántas veces aparece un número específico. Utiliza estructuras repetitivas para la resolucion de este ejercicio. "
   ]
  },
  {
   "cell_type": "code",
   "execution_count": 197,
   "id": "a9c8ebc7",
   "metadata": {},
   "outputs": [
    {
     "name": "stdout",
     "output_type": "stream",
     "text": [
      "Lista generada: [109, 78, 57, 109, 125, 65, 64, 24, 195, 143, 132, 12, 54, 65, 23, 85, 109, 92, 151, 28]\n",
      "- El número 109 se repite 3 veces\n",
      "- El número 65 se repite 2 veces\n"
     ]
    }
   ],
   "source": [
    "\n",
    "lists = [randint(1, 200) for i in range(20)]\n",
    "\n",
    "# Mostrar la lista\n",
    "print(\"Lista generada:\", lists)\n",
    "\n",
    "# Crear una lista de pares [número, cantidad]\n",
    "rep = []\n",
    "\n",
    "for i in lists:\n",
    "    found = False\n",
    "    for j in rep:\n",
    "        if j[0] == i:\n",
    "            j[1] += 1\n",
    "            found = True\n",
    "            break\n",
    "    if not found:\n",
    "        rep.append([i, 1])\n",
    "\n",
    "\n",
    "for num, cant in rep:\n",
    "    if cant > 1:\n",
    "        print(f\"- El número {num} se repite {cant} veces\")\n",
    "    \n",
    "\n"
   ]
  },
  {
   "cell_type": "markdown",
   "id": "b8dac397",
   "metadata": {},
   "source": [
    "### Actividad 4: \n",
    "Invertir una lista sin usar reverse() ni [::-1]"
   ]
  },
  {
   "cell_type": "code",
   "execution_count": 143,
   "id": "d04fd492",
   "metadata": {},
   "outputs": [
    {
     "name": "stdout",
     "output_type": "stream",
     "text": [
      "Lista generada: [49, 8, 49, 9, 43, 43, 9, 25]\n",
      "Lista invertida: [25, 9, 43, 43, 9, 49, 8, 49]\n"
     ]
    }
   ],
   "source": [
    "\n",
    "lists_two = [randint(1, 50) for i in range(8)]\n",
    "print (\"Lista generada:\", lists_two)\n",
    "inverted_list = []\n",
    "\n",
    "for i in range(len(lists_two) - 1, -1, -1):\n",
    "  inverted_list.append(lists_two[i])\n",
    "\n",
    "print(\"Lista invertida:\", inverted_list)"
   ]
  },
  {
   "cell_type": "markdown",
   "id": "8889d0f2",
   "metadata": {},
   "source": [
    "### Actividad 5:\n",
    "Sumar los elementos de dos listas posición por posición, utilizando solo bucles repetititivos (for,while)."
   ]
  },
  {
   "cell_type": "code",
   "execution_count": 141,
   "id": "bc0ec844",
   "metadata": {},
   "outputs": [
    {
     "name": "stdout",
     "output_type": "stream",
     "text": [
      "Resultado de la suma posición por posición: [3, 7, 11, 16, 18]\n"
     ]
    }
   ],
   "source": [
    "\n",
    "# todo:\n",
    "\n",
    "lists_one = [ 2,4,6,7,8 ]\n",
    "lists_two = [ 1,3,5,9,10 ]\n",
    "\n",
    "result = []\n",
    "\n",
    "  # Ensure both lists have the same length\n",
    "for i in range(len(lists_one)):\n",
    "  result.append(lists_one[i] + lists_two[i])\n",
    "\n",
    "print(\"Resultado de la suma posición por posición:\", result)"
   ]
  },
  {
   "cell_type": "markdown",
   "id": "8ce33e6b",
   "metadata": {},
   "source": [
    "### Actividad 6:\n",
    "\n",
    "Escribir un programa que almacene el abecedario en una lista, elimine de la lista las letras que ocupen posiciones múltiplos de 3, y muestre por pantalla la lista resultante."
   ]
  },
  {
   "cell_type": "code",
   "execution_count": 144,
   "id": "b07326e2",
   "metadata": {},
   "outputs": [
    {
     "name": "stdout",
     "output_type": "stream",
     "text": [
      "Lista resultante: ['a', 'b', 'd', 'e', 'g', 'h', 'j', 'k', 'm', 'n', 'p', 'q', 's', 't', 'v', 'w', 'y', 'z']\n"
     ]
    }
   ],
   "source": [
    "\n",
    "# Crear una lista con el abecedario\n",
    "abecedario = [chr(i) for i in range(97, 123)]  # Letras de 'a' a 'z'\n",
    "\n",
    "# Eliminar las letras en posiciones múltiplos de 3\n",
    "resultado = [letra for i, letra in enumerate(abecedario, start=1) if i % 3 != 0]\n",
    "\n",
    "# Mostrar la lista resultante\n",
    "print(\"Lista resultante:\", resultado)"
   ]
  },
  {
   "cell_type": "markdown",
   "id": "5bfeb4b5",
   "metadata": {},
   "source": [
    "### Actividad 7:\n",
    "\n",
    "Escribir un programa que pida al usuario una palabra y muestre por pantalla si es un palíndromo (una palabra que se escribe de la misma forma al derecho y al reves)."
   ]
  },
  {
   "cell_type": "code",
   "execution_count": null,
   "id": "2365afcc",
   "metadata": {},
   "outputs": [],
   "source": [
    "\n",
    "# Solicitar al usuario una palabra\n",
    "palabra = input(\"Introduce una palabra: \").strip().lower()\n",
    "\n",
    "# Verificar si es un palíndromo\n",
    "if palabra == palabra[::-1]:\n",
    "  print(f\"La palabra '{palabra}' es un palíndromo.\")\n",
    "else:\n",
    "  print(f\"La palabra '{palabra}' no es un palíndromo.\")"
   ]
  },
  {
   "cell_type": "markdown",
   "id": "ed8b51be",
   "metadata": {},
   "source": [
    "### Actividad 8:\n",
    "\n",
    "Teniendo en cuenta el conjunto 1 y el conjunto 2, sin usar el operador de intersección &, calcular la intersección de dichos conjuntos."
   ]
  },
  {
   "cell_type": "code",
   "execution_count": 146,
   "id": "21a434b9",
   "metadata": {},
   "outputs": [
    {
     "name": "stdout",
     "output_type": "stream",
     "text": [
      "Intersección: {3, 4}\n"
     ]
    }
   ],
   "source": [
    "conjunto1 = {1, 2, 3, 4}\n",
    "conjunto2 = {3, 4, 5, 6}\n",
    "\n",
    "interseccion = {elemento for elemento in conjunto1 if elemento in conjunto2}\n",
    "print(\"Intersección:\", interseccion)\n"
   ]
  },
  {
   "cell_type": "markdown",
   "id": "31b460dc",
   "metadata": {},
   "source": [
    "### Actividad 9:\n",
    "Eliminar duplicados de una lista usando un set."
   ]
  },
  {
   "cell_type": "code",
   "execution_count": 147,
   "id": "0ef62008",
   "metadata": {},
   "outputs": [
    {
     "name": "stdout",
     "output_type": "stream",
     "text": [
      "Lista sin duplicados: [1, 2, 3, 4, 5]\n"
     ]
    }
   ],
   "source": [
    "\n",
    "\n",
    "lista = [1, 2, 2, 3, 4, 4, 5]\n",
    "\n",
    "# Eliminar duplicados de la lista usando un set\n",
    "lista_sin_duplicados = list(set(lista))\n",
    "\n",
    "# Mostrar la lista resultante\n",
    "print(\"Lista sin duplicados:\", lista_sin_duplicados)\n"
   ]
  },
  {
   "cell_type": "markdown",
   "id": "075f1f2c",
   "metadata": {},
   "source": [
    "### Actividad 10:\n",
    "\n",
    "Escribir un programa que cree 2 matrices y realice su multiplicacion."
   ]
  },
  {
   "cell_type": "code",
   "execution_count": null,
   "id": "4c1fd0e1",
   "metadata": {},
   "outputs": [],
   "source": [
    "\n",
    "# Crear dos matrices\n",
    "matriz1 = [\n",
    "  [1, 2, 3],\n",
    "  [4, 5, 6],\n",
    "  [7, 8, 9]\n",
    "]\n",
    "\n",
    "matriz2 = [\n",
    "  [9, 8, 7],\n",
    "  [6, 5, 4],\n",
    "  [3, 2, 1]\n",
    "]\n",
    "\n",
    "# Inicializar la matriz resultado con ceros\n",
    "resultado = [[0 for _ in range(len(matriz2[0]))] for _ in range(len(matriz1))]\n",
    "\n",
    "# Realizar la multiplicación de matrices\n",
    "for i in range(len(matriz1)):\n",
    "  for j in range(len(matriz2[0])):\n",
    "    for k in range(len(matriz2)):\n",
    "      resultado[i][j] += matriz1[i][k] * matriz2[k][j]\n",
    "\n",
    "# Mostrar la matriz resultado\n",
    "print(\"Resultado de la multiplicación de matrices:\")\n",
    "for fila in resultado:\n",
    "  print(fila)"
   ]
  }
 ],
 "metadata": {
  "kernelspec": {
   "display_name": "Python 3",
   "language": "python",
   "name": "python3"
  },
  "language_info": {
   "codemirror_mode": {
    "name": "ipython",
    "version": 3
   },
   "file_extension": ".py",
   "mimetype": "text/x-python",
   "name": "python",
   "nbconvert_exporter": "python",
   "pygments_lexer": "ipython3",
   "version": "3.13.3"
  }
 },
 "nbformat": 4,
 "nbformat_minor": 5
}
